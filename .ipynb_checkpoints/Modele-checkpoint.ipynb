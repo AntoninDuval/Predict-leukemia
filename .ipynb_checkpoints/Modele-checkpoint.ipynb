{
 "cells": [
  {
   "cell_type": "code",
   "execution_count": 2,
   "metadata": {},
   "outputs": [],
   "source": [
    "import pandas as pd\n",
    "import numpy as np\n",
    "import matplotlib.pyplot as plt\n",
    "import seaborn as sns\n",
    "\n",
    "from sklearn.model_selection import GridSearchCV,train_test_split\n",
    "from sklearn.ensemble import RandomForestClassifier\n",
    "from sklearn.linear_model import LogisticRegression\n",
    "from sklearn.compose import ColumnTransformer\n",
    "from sklearn.preprocessing import scale, StandardScaler,FunctionTransformer\n",
    "from sklearn.decomposition import PCA\n",
    "from sklearn.metrics import roc_curve, auc,confusion_matrix,roc_auc_score, precision_recall_curve\n",
    "from sklearn.cross_decomposition import PLSRegression\n",
    "\n",
    "import random\n",
    "\n",
    "SEED = 520"
   ]
  },
  {
   "cell_type": "code",
   "execution_count": null,
   "metadata": {},
   "outputs": [],
   "source": [
    "df = pd.read_csv('raw_data.csv', sep=';')"
   ]
  },
  {
   "cell_type": "code",
   "execution_count": null,
   "metadata": {},
   "outputs": [],
   "source": [
    "df.shape"
   ]
  },
  {
   "cell_type": "code",
   "execution_count": null,
   "metadata": {},
   "outputs": [],
   "source": [
    "col_spectre = df.columns[4:-1]\n",
    "other_col = [\"patient_name\",'cell_name','cell_type','patient_state','spectre']"
   ]
  },
  {
   "cell_type": "code",
   "execution_count": null,
   "metadata": {},
   "outputs": [],
   "source": [
    "spectre_1 = df[df[\"spectre\"] == 1]\n",
    "spectre_2 = df[df[\"spectre\"] == 2]\n",
    "spectre_3 = df[df[\"spectre\"] == 3]"
   ]
  },
  {
   "cell_type": "code",
   "execution_count": null,
   "metadata": {},
   "outputs": [],
   "source": [
    "print(spectre_1.shape)\n",
    "print(spectre_2.shape)\n",
    "print(spectre_3.shape)"
   ]
  },
  {
   "cell_type": "code",
   "execution_count": null,
   "metadata": {},
   "outputs": [],
   "source": [
    "col_spectre = list(df.columns[4:-1])\n",
    "col_spectre.append('cell_name')"
   ]
  },
  {
   "cell_type": "code",
   "execution_count": null,
   "metadata": {},
   "outputs": [],
   "source": [
    "new_df = spectre_1.merge(spectre_2[col_spectre], how='left', on='cell_name', suffixes=(None,\"_2\"))\n",
    "new_df = new_df.merge(spectre_3[col_spectre], how='left', on='cell_name', suffixes=(None,\"_3\"))"
   ]
  },
  {
   "cell_type": "code",
   "execution_count": null,
   "metadata": {},
   "outputs": [],
   "source": [
    "new_df"
   ]
  },
  {
   "cell_type": "code",
   "execution_count": null,
   "metadata": {},
   "outputs": [],
   "source": [
    "print('Cellule avec 3 spectre :', len(new_df[~new_df['lambda_997_3'].isna()]))\n",
    "print('Cellule avec 2 spectre ou moins :', len(new_df[new_df['lambda_997_3'].isna()]))\n",
    "print('Cellule avec 1 spectre :', len(new_df[new_df['lambda_997_2'].isna()]))"
   ]
  },
  {
   "cell_type": "code",
   "execution_count": null,
   "metadata": {},
   "outputs": [],
   "source": [
    "# We replace missing value by 0\n",
    "new_df = new_df.fillna(0)"
   ]
  },
  {
   "cell_type": "code",
   "execution_count": null,
   "metadata": {},
   "outputs": [],
   "source": [
    "new_df['cell_type'] = new_df['cell_type'].replace('B',1)\n",
    "new_df['cell_type'] = new_df['cell_type'].replace('TNK',0)"
   ]
  },
  {
   "cell_type": "code",
   "execution_count": null,
   "metadata": {},
   "outputs": [],
   "source": [
    "# Preprocess the data\n",
    "\n",
    "label = new_df['cell_type']\n",
    "data = new_df.drop(['cell_type','cell_name','patient_name','patient_state'], axis=1)\n",
    "\n",
    "x_train, x_test, y_train, y_test = train_test_split(data, label,\n",
    "                                                    test_size=0.2, stratify=label, random_state=SEED)"
   ]
  },
  {
   "cell_type": "code",
   "execution_count": null,
   "metadata": {},
   "outputs": [],
   "source": [
    "print(x_train.shape)\n",
    "print(x_test.shape)"
   ]
  },
  {
   "cell_type": "code",
   "execution_count": null,
   "metadata": {},
   "outputs": [],
   "source": [
    "# Find best parameters for Random Forrest using Cross Validation\n",
    "clf = RandomForestClassifier(random_state=SEED)\n",
    "\n",
    "param_grid = {\"max_depth\" : [6, 15]}\n",
    "\n",
    "gridsearch_rf = GridSearchCV(clf,param_grid=param_grid, \n",
    "                             cv=10, \n",
    "                             scoring='f1', \n",
    "                             return_train_score=True,\n",
    "                             refit=True)\n",
    "gridsearch_rf.fit(x_train, y_train.values.ravel())\n",
    "pd.DataFrame(gridsearch_rf.cv_results_).T "
   ]
  },
  {
   "cell_type": "markdown",
   "metadata": {},
   "source": [
    "## 2eme Methode : Predire par spectre"
   ]
  },
  {
   "cell_type": "code",
   "execution_count": 3,
   "metadata": {},
   "outputs": [],
   "source": [
    "df = pd.read_csv('raw_data.csv', sep=';')"
   ]
  },
  {
   "cell_type": "code",
   "execution_count": 4,
   "metadata": {},
   "outputs": [],
   "source": [
    "col_spectre = df.columns[4:-1]\n",
    "other_col = [\"patient_name\",'cell_name','cell_type','patient_state','spectre']\n",
    "\n",
    "# Preprocess the data\n",
    "df['cell_type'] = df['cell_type'].replace('B',1)\n",
    "df['cell_type'] = df['cell_type'].replace('TNK',0)\n",
    "\n",
    "# One hot the specter number feature\n",
    "for i in df['spectre'].unique():\n",
    "    df['spectre_'+str(int(i))] = np.where(df['spectre'] == i, 1, 0)"
   ]
  },
  {
   "cell_type": "code",
   "execution_count": 6,
   "metadata": {},
   "outputs": [
    {
     "name": "stdout",
     "output_type": "stream",
     "text": [
      "Taille training set : (6326, 1007)\n",
      "Taille test set : (871, 1007)\n",
      "Nombre de patients dans le train vs test 29 / 4\n",
      "Nombre de spectres dans train vs test: 6326 / 871\n",
      "Ratio B-cell target train vs test 0.4030983243755928 / 0.41102181400688864\n",
      "Patients dans le train set : ['P2_ULC80' 'P2_ULC81' 'P1_ULC86' 'P1_ULC87' 'P1_ULC89' 'P1_ULC91'\n",
      " 'P2_ULC93' 'P1_ULC95' 'P1_ULC98' 'P2_ULC99' 'P1_ULC101' 'P2_ULC102'\n",
      " 'P1_ULC103' 'P1_ULC106' 'P1_ULC127' 'P2_ULC128' 'P2_ULC129' 'P1_ULC133'\n",
      " 'P2_ULC135' 'P1_ULC137' 'P1_ULC138' 'P2_ULC139' 'P2_ULC142' 'P1_ULC144'\n",
      " 'P2_ULC146' 'P1_ULC147' 'P2_ULC149' 'P1_ULC151' 'P1_ULC156']\n",
      "Patients dans le test set : ['P2_ULC88' 'P2_ULC96' 'P1_ULC100' 'P1_ULC148']\n"
     ]
    }
   ],
   "source": [
    "# Notre train set contiendra les spectres de 29 patients, tandis que le test set sera constitué de 6 patients\n",
    "# On fait en sorte que le test set ait autant de patients sains que malades.\n",
    "patient_malade = list(df[df['patient_state'] == 'malade'].patient_name.unique())\n",
    "patient_sain = list(df[df['patient_state'] == 'sain'].patient_name.unique())\n",
    "\n",
    "patient_test = random.sample(patient_malade, 2) + random.sample(patient_sain, 2)\n",
    "label = df['cell_type']\n",
    "\n",
    "\n",
    "x_train = df.loc[~df.patient_name.isin(patient_test)]\n",
    "y_train = df.loc[~df.patient_name.isin(patient_test)]['cell_type']\n",
    "x_test = df.loc[df.patient_name.isin(patient_test)]\n",
    "y_test = df.loc[df.patient_name.isin(patient_test)]['cell_type']\n",
    "\n",
    "\n",
    "#x_train, x_test, y_train, y_test = train_test_split(df, label, test_size=0.2, stratify=label)\n",
    "\n",
    "print(\"Taille training set :\", x_train.shape)\n",
    "print(\"Taille test set :\", x_test.shape)\n",
    "print(\"Nombre de patients dans le train vs test\", x_train['patient_name'].nunique(),'/', x_test['patient_name'].nunique())\n",
    "print(\"Nombre de spectres dans train vs test:\", len(x_train), '/', len(x_test))\n",
    "print(\"Ratio B-cell target train vs test\" , len(y_train[y_train == 1])/len(y_train),'/',len(y_test[y_test == 1])/len(y_test))\n",
    "print(\"Patients dans le train set :\", x_train['patient_name'].unique())\n",
    "print(\"Patients dans le test set :\", x_test['patient_name'].unique())\n",
    "\n",
    "# Remove features that won't be used for training\n",
    "x_train = x_train.drop(['cell_type','cell_name','patient_name','patient_state','spectre'], axis=1)\n",
    "x_test = x_test.drop(['cell_type','cell_name','patient_name','patient_state','spectre'], axis=1)"
   ]
  },
  {
   "cell_type": "code",
   "execution_count": 7,
   "metadata": {},
   "outputs": [],
   "source": [
    "# Apply a Partial least squares regression to reduce the dimensionality\n",
    "pls = PLSRegression(n_components=20)\n",
    "\n",
    "spectre_transformed_train = pd.DataFrame(pls.fit_transform(x_train[col_spectre], y_train)[0])\n",
    "spectre_transformed_test = pd.DataFrame(pls.transform(x_test[col_spectre]))\n",
    "\n",
    "col_spectre_pls = spectre_transformed_train.columns\n",
    "\n",
    "x_train = pd.concat([x_train.iloc[:,-3:].reset_index(), spectre_transformed_train], axis=1).drop(\"index\", axis=1)\n",
    "x_test = pd.concat([x_test.iloc[:,-3:].reset_index(), spectre_transformed_test], axis=1).drop(\"index\", axis=1)"
   ]
  },
  {
   "cell_type": "code",
   "execution_count": 8,
   "metadata": {},
   "outputs": [],
   "source": [
    "# We scale continous feature\n",
    "columnTransformer = ColumnTransformer([['scaler',\n",
    "                                        StandardScaler(),\n",
    "                                        col_spectre_pls]],\n",
    "                                      remainder='passthrough',\n",
    "                                      )\n",
    "\n",
    "x_train_transformed = np.array(columnTransformer.fit_transform(x_train))\n",
    "x_test_transformed = np.array(columnTransformer.transform(x_test))"
   ]
  },
  {
   "cell_type": "code",
   "execution_count": 10,
   "metadata": {},
   "outputs": [
    {
     "data": {
      "text/html": [
       "<div>\n",
       "<style scoped>\n",
       "    .dataframe tbody tr th:only-of-type {\n",
       "        vertical-align: middle;\n",
       "    }\n",
       "\n",
       "    .dataframe tbody tr th {\n",
       "        vertical-align: top;\n",
       "    }\n",
       "\n",
       "    .dataframe thead th {\n",
       "        text-align: right;\n",
       "    }\n",
       "</style>\n",
       "<table border=\"1\" class=\"dataframe\">\n",
       "  <thead>\n",
       "    <tr style=\"text-align: right;\">\n",
       "      <th></th>\n",
       "      <th>0</th>\n",
       "    </tr>\n",
       "  </thead>\n",
       "  <tbody>\n",
       "    <tr>\n",
       "      <th>mean_fit_time</th>\n",
       "      <td>0.805729</td>\n",
       "    </tr>\n",
       "    <tr>\n",
       "      <th>std_fit_time</th>\n",
       "      <td>0.027371</td>\n",
       "    </tr>\n",
       "    <tr>\n",
       "      <th>mean_score_time</th>\n",
       "      <td>0.009346</td>\n",
       "    </tr>\n",
       "    <tr>\n",
       "      <th>std_score_time</th>\n",
       "      <td>0.004202</td>\n",
       "    </tr>\n",
       "    <tr>\n",
       "      <th>param_max_depth</th>\n",
       "      <td>15</td>\n",
       "    </tr>\n",
       "    <tr>\n",
       "      <th>...</th>\n",
       "      <td>...</td>\n",
       "    </tr>\n",
       "    <tr>\n",
       "      <th>split27_train_score</th>\n",
       "      <td>0.954978</td>\n",
       "    </tr>\n",
       "    <tr>\n",
       "      <th>split28_train_score</th>\n",
       "      <td>0.959462</td>\n",
       "    </tr>\n",
       "    <tr>\n",
       "      <th>split29_train_score</th>\n",
       "      <td>0.953125</td>\n",
       "    </tr>\n",
       "    <tr>\n",
       "      <th>mean_train_score</th>\n",
       "      <td>0.955525</td>\n",
       "    </tr>\n",
       "    <tr>\n",
       "      <th>std_train_score</th>\n",
       "      <td>0.00425</td>\n",
       "    </tr>\n",
       "  </tbody>\n",
       "</table>\n",
       "<p>72 rows × 1 columns</p>\n",
       "</div>"
      ],
      "text/plain": [
       "                            0\n",
       "mean_fit_time        0.805729\n",
       "std_fit_time         0.027371\n",
       "mean_score_time      0.009346\n",
       "std_score_time       0.004202\n",
       "param_max_depth            15\n",
       "...                       ...\n",
       "split27_train_score  0.954978\n",
       "split28_train_score  0.959462\n",
       "split29_train_score  0.953125\n",
       "mean_train_score     0.955525\n",
       "std_train_score       0.00425\n",
       "\n",
       "[72 rows x 1 columns]"
      ]
     },
     "execution_count": 10,
     "metadata": {},
     "output_type": "execute_result"
    }
   ],
   "source": [
    "# Find best parameters for Random Forrest using Cross Validation\n",
    "clf = RandomForestClassifier(random_state=SEED)\n",
    "\n",
    "param_grid = {\"max_depth\" : [15],\n",
    "             \"n_estimators\": [50]}\n",
    "\n",
    "gridsearch_rf = GridSearchCV(clf,param_grid=param_grid, \n",
    "                             cv=20, \n",
    "                             scoring='f1', \n",
    "                             return_train_score=True,\n",
    "                             refit=True)\n",
    "gridsearch_rf.fit(x_train_transformed, y_train.values.ravel())\n",
    "pd.DataFrame(gridsearch_rf.cv_results_).T"
   ]
  },
  {
   "cell_type": "code",
   "execution_count": null,
   "metadata": {},
   "outputs": [],
   "source": [
    "pd.DataFrame(gridsearch_rf.cv_results_).T.iloc[:20, 0]"
   ]
  },
  {
   "cell_type": "code",
   "execution_count": 59,
   "metadata": {},
   "outputs": [
    {
     "data": {
      "text/html": [
       "<div>\n",
       "<style scoped>\n",
       "    .dataframe tbody tr th:only-of-type {\n",
       "        vertical-align: middle;\n",
       "    }\n",
       "\n",
       "    .dataframe tbody tr th {\n",
       "        vertical-align: top;\n",
       "    }\n",
       "\n",
       "    .dataframe thead th {\n",
       "        text-align: right;\n",
       "    }\n",
       "</style>\n",
       "<table border=\"1\" class=\"dataframe\">\n",
       "  <thead>\n",
       "    <tr style=\"text-align: right;\">\n",
       "      <th></th>\n",
       "      <th>0</th>\n",
       "      <th>1</th>\n",
       "      <th>2</th>\n",
       "      <th>3</th>\n",
       "    </tr>\n",
       "  </thead>\n",
       "  <tbody>\n",
       "    <tr>\n",
       "      <th>mean_fit_time</th>\n",
       "      <td>0.012892</td>\n",
       "      <td>0.013791</td>\n",
       "      <td>0.014492</td>\n",
       "      <td>0.01579</td>\n",
       "    </tr>\n",
       "    <tr>\n",
       "      <th>std_fit_time</th>\n",
       "      <td>0.002118</td>\n",
       "      <td>0.001832</td>\n",
       "      <td>0.001203</td>\n",
       "      <td>0.002226</td>\n",
       "    </tr>\n",
       "    <tr>\n",
       "      <th>mean_score_time</th>\n",
       "      <td>0.001899</td>\n",
       "      <td>0.0015</td>\n",
       "      <td>0.001899</td>\n",
       "      <td>0.001999</td>\n",
       "    </tr>\n",
       "    <tr>\n",
       "      <th>std_score_time</th>\n",
       "      <td>0.000831</td>\n",
       "      <td>0.00067</td>\n",
       "      <td>0.000699</td>\n",
       "      <td>0.000632</td>\n",
       "    </tr>\n",
       "    <tr>\n",
       "      <th>param_C</th>\n",
       "      <td>0.01</td>\n",
       "      <td>0.1</td>\n",
       "      <td>0.5</td>\n",
       "      <td>1.0</td>\n",
       "    </tr>\n",
       "    <tr>\n",
       "      <th>params</th>\n",
       "      <td>{'C': 0.01}</td>\n",
       "      <td>{'C': 0.1}</td>\n",
       "      <td>{'C': 0.5}</td>\n",
       "      <td>{'C': 1.0}</td>\n",
       "    </tr>\n",
       "    <tr>\n",
       "      <th>split0_test_score</th>\n",
       "      <td>0.966165</td>\n",
       "      <td>0.969925</td>\n",
       "      <td>0.969925</td>\n",
       "      <td>0.969925</td>\n",
       "    </tr>\n",
       "    <tr>\n",
       "      <th>split1_test_score</th>\n",
       "      <td>0.796226</td>\n",
       "      <td>0.8</td>\n",
       "      <td>0.8</td>\n",
       "      <td>0.8</td>\n",
       "    </tr>\n",
       "    <tr>\n",
       "      <th>split2_test_score</th>\n",
       "      <td>0.754717</td>\n",
       "      <td>0.758491</td>\n",
       "      <td>0.754717</td>\n",
       "      <td>0.754717</td>\n",
       "    </tr>\n",
       "    <tr>\n",
       "      <th>split3_test_score</th>\n",
       "      <td>0.811321</td>\n",
       "      <td>0.807547</td>\n",
       "      <td>0.807547</td>\n",
       "      <td>0.807547</td>\n",
       "    </tr>\n",
       "    <tr>\n",
       "      <th>split4_test_score</th>\n",
       "      <td>0.89434</td>\n",
       "      <td>0.898113</td>\n",
       "      <td>0.898113</td>\n",
       "      <td>0.898113</td>\n",
       "    </tr>\n",
       "    <tr>\n",
       "      <th>split5_test_score</th>\n",
       "      <td>0.815094</td>\n",
       "      <td>0.841509</td>\n",
       "      <td>0.841509</td>\n",
       "      <td>0.841509</td>\n",
       "    </tr>\n",
       "    <tr>\n",
       "      <th>split6_test_score</th>\n",
       "      <td>0.516981</td>\n",
       "      <td>0.513208</td>\n",
       "      <td>0.513208</td>\n",
       "      <td>0.513208</td>\n",
       "    </tr>\n",
       "    <tr>\n",
       "      <th>split7_test_score</th>\n",
       "      <td>0.754717</td>\n",
       "      <td>0.762264</td>\n",
       "      <td>0.758491</td>\n",
       "      <td>0.758491</td>\n",
       "    </tr>\n",
       "    <tr>\n",
       "      <th>split8_test_score</th>\n",
       "      <td>0.637736</td>\n",
       "      <td>0.637736</td>\n",
       "      <td>0.637736</td>\n",
       "      <td>0.637736</td>\n",
       "    </tr>\n",
       "    <tr>\n",
       "      <th>split9_test_score</th>\n",
       "      <td>0.6</td>\n",
       "      <td>0.6</td>\n",
       "      <td>0.6</td>\n",
       "      <td>0.6</td>\n",
       "    </tr>\n",
       "    <tr>\n",
       "      <th>mean_test_score</th>\n",
       "      <td>0.75473</td>\n",
       "      <td>0.758879</td>\n",
       "      <td>0.758125</td>\n",
       "      <td>0.758125</td>\n",
       "    </tr>\n",
       "    <tr>\n",
       "      <th>std_test_score</th>\n",
       "      <td>0.129197</td>\n",
       "      <td>0.132325</td>\n",
       "      <td>0.132325</td>\n",
       "      <td>0.132325</td>\n",
       "    </tr>\n",
       "    <tr>\n",
       "      <th>rank_test_score</th>\n",
       "      <td>4</td>\n",
       "      <td>1</td>\n",
       "      <td>2</td>\n",
       "      <td>2</td>\n",
       "    </tr>\n",
       "    <tr>\n",
       "      <th>split0_train_score</th>\n",
       "      <td>0.750943</td>\n",
       "      <td>0.754717</td>\n",
       "      <td>0.757233</td>\n",
       "      <td>0.757233</td>\n",
       "    </tr>\n",
       "    <tr>\n",
       "      <th>split1_train_score</th>\n",
       "      <td>0.761106</td>\n",
       "      <td>0.764459</td>\n",
       "      <td>0.766136</td>\n",
       "      <td>0.766136</td>\n",
       "    </tr>\n",
       "    <tr>\n",
       "      <th>split2_train_score</th>\n",
       "      <td>0.765298</td>\n",
       "      <td>0.766974</td>\n",
       "      <td>0.766974</td>\n",
       "      <td>0.766974</td>\n",
       "    </tr>\n",
       "    <tr>\n",
       "      <th>split3_train_score</th>\n",
       "      <td>0.762783</td>\n",
       "      <td>0.765298</td>\n",
       "      <td>0.765298</td>\n",
       "      <td>0.765298</td>\n",
       "    </tr>\n",
       "    <tr>\n",
       "      <th>split4_train_score</th>\n",
       "      <td>0.776194</td>\n",
       "      <td>0.778709</td>\n",
       "      <td>0.780386</td>\n",
       "      <td>0.780386</td>\n",
       "    </tr>\n",
       "    <tr>\n",
       "      <th>split5_train_score</th>\n",
       "      <td>0.772842</td>\n",
       "      <td>0.776614</td>\n",
       "      <td>0.77829</td>\n",
       "      <td>0.778709</td>\n",
       "    </tr>\n",
       "    <tr>\n",
       "      <th>split6_train_score</th>\n",
       "      <td>0.798826</td>\n",
       "      <td>0.802598</td>\n",
       "      <td>0.802598</td>\n",
       "      <td>0.802598</td>\n",
       "    </tr>\n",
       "    <tr>\n",
       "      <th>split7_train_score</th>\n",
       "      <td>0.771165</td>\n",
       "      <td>0.771165</td>\n",
       "      <td>0.770746</td>\n",
       "      <td>0.770746</td>\n",
       "    </tr>\n",
       "    <tr>\n",
       "      <th>split8_train_score</th>\n",
       "      <td>0.77829</td>\n",
       "      <td>0.778709</td>\n",
       "      <td>0.779966</td>\n",
       "      <td>0.780386</td>\n",
       "    </tr>\n",
       "    <tr>\n",
       "      <th>split9_train_score</th>\n",
       "      <td>0.7829</td>\n",
       "      <td>0.786672</td>\n",
       "      <td>0.786253</td>\n",
       "      <td>0.786253</td>\n",
       "    </tr>\n",
       "    <tr>\n",
       "      <th>mean_train_score</th>\n",
       "      <td>0.772035</td>\n",
       "      <td>0.774592</td>\n",
       "      <td>0.775388</td>\n",
       "      <td>0.775472</td>\n",
       "    </tr>\n",
       "    <tr>\n",
       "      <th>std_train_score</th>\n",
       "      <td>0.012605</td>\n",
       "      <td>0.012736</td>\n",
       "      <td>0.012338</td>\n",
       "      <td>0.012364</td>\n",
       "    </tr>\n",
       "  </tbody>\n",
       "</table>\n",
       "</div>"
      ],
      "text/plain": [
       "                              0           1           2           3\n",
       "mean_fit_time          0.012892    0.013791    0.014492     0.01579\n",
       "std_fit_time           0.002118    0.001832    0.001203    0.002226\n",
       "mean_score_time        0.001899      0.0015    0.001899    0.001999\n",
       "std_score_time         0.000831     0.00067    0.000699    0.000632\n",
       "param_C                    0.01         0.1         0.5         1.0\n",
       "params              {'C': 0.01}  {'C': 0.1}  {'C': 0.5}  {'C': 1.0}\n",
       "split0_test_score      0.966165    0.969925    0.969925    0.969925\n",
       "split1_test_score      0.796226         0.8         0.8         0.8\n",
       "split2_test_score      0.754717    0.758491    0.754717    0.754717\n",
       "split3_test_score      0.811321    0.807547    0.807547    0.807547\n",
       "split4_test_score       0.89434    0.898113    0.898113    0.898113\n",
       "split5_test_score      0.815094    0.841509    0.841509    0.841509\n",
       "split6_test_score      0.516981    0.513208    0.513208    0.513208\n",
       "split7_test_score      0.754717    0.762264    0.758491    0.758491\n",
       "split8_test_score      0.637736    0.637736    0.637736    0.637736\n",
       "split9_test_score           0.6         0.6         0.6         0.6\n",
       "mean_test_score         0.75473    0.758879    0.758125    0.758125\n",
       "std_test_score         0.129197    0.132325    0.132325    0.132325\n",
       "rank_test_score               4           1           2           2\n",
       "split0_train_score     0.750943    0.754717    0.757233    0.757233\n",
       "split1_train_score     0.761106    0.764459    0.766136    0.766136\n",
       "split2_train_score     0.765298    0.766974    0.766974    0.766974\n",
       "split3_train_score     0.762783    0.765298    0.765298    0.765298\n",
       "split4_train_score     0.776194    0.778709    0.780386    0.780386\n",
       "split5_train_score     0.772842    0.776614     0.77829    0.778709\n",
       "split6_train_score     0.798826    0.802598    0.802598    0.802598\n",
       "split7_train_score     0.771165    0.771165    0.770746    0.770746\n",
       "split8_train_score      0.77829    0.778709    0.779966    0.780386\n",
       "split9_train_score       0.7829    0.786672    0.786253    0.786253\n",
       "mean_train_score       0.772035    0.774592    0.775388    0.775472\n",
       "std_train_score        0.012605    0.012736    0.012338    0.012364"
      ]
     },
     "execution_count": 59,
     "metadata": {},
     "output_type": "execute_result"
    }
   ],
   "source": [
    "# Find best parameters for logistic regression using Cross Validation\n",
    "clf = LogisticRegression(random_state=SEED, solver='liblinear')\n",
    "param_grid_rl = {\"C\" : [0.01,0.1,0.5,1.0]}\n",
    "gridsearch_rl = GridSearchCV(clf,param_grid=param_grid_rl, \n",
    "                             cv=10, \n",
    "                             scoring='recall', \n",
    "                             return_train_score=True,\n",
    "                             )\n",
    "gridsearch_rl.fit(x_train_transformed, y_train.values.ravel())\n",
    "pd.DataFrame(gridsearch_rl.cv_results_).T"
   ]
  },
  {
   "cell_type": "code",
   "execution_count": 1,
   "metadata": {},
   "outputs": [
    {
     "ename": "NameError",
     "evalue": "name 'RandomForestClassifier' is not defined",
     "output_type": "error",
     "traceback": [
      "\u001b[1;31m---------------------------------------------------------------------------\u001b[0m",
      "\u001b[1;31mNameError\u001b[0m                                 Traceback (most recent call last)",
      "\u001b[1;32m<ipython-input-1-ea3024115f0a>\u001b[0m in \u001b[0;36m<module>\u001b[1;34m\u001b[0m\n\u001b[0;32m      1\u001b[0m \u001b[1;31m# We retrain our model on the whole train set using the best hyperparameters\u001b[0m\u001b[1;33m\u001b[0m\u001b[1;33m\u001b[0m\u001b[1;33m\u001b[0m\u001b[0m\n\u001b[1;32m----> 2\u001b[1;33m \u001b[0mclf\u001b[0m \u001b[1;33m=\u001b[0m \u001b[0mRandomForestClassifier\u001b[0m\u001b[1;33m(\u001b[0m\u001b[1;33m**\u001b[0m\u001b[0mgridsearch_rf\u001b[0m\u001b[1;33m.\u001b[0m\u001b[0mbest_params_\u001b[0m\u001b[1;33m)\u001b[0m\u001b[1;33m\u001b[0m\u001b[1;33m\u001b[0m\u001b[0m\n\u001b[0m\u001b[0;32m      3\u001b[0m \u001b[0mclf\u001b[0m\u001b[1;33m.\u001b[0m\u001b[0mfit\u001b[0m\u001b[1;33m(\u001b[0m\u001b[0mx_train_transformed\u001b[0m\u001b[1;33m,\u001b[0m \u001b[0my_train\u001b[0m\u001b[1;33m.\u001b[0m\u001b[0mvalues\u001b[0m\u001b[1;33m.\u001b[0m\u001b[0mravel\u001b[0m\u001b[1;33m(\u001b[0m\u001b[1;33m)\u001b[0m\u001b[1;33m)\u001b[0m\u001b[1;33m\u001b[0m\u001b[1;33m\u001b[0m\u001b[0m\n",
      "\u001b[1;31mNameError\u001b[0m: name 'RandomForestClassifier' is not defined"
     ]
    }
   ],
   "source": [
    "# We retrain our model on the whole train set using the best hyperparameters\n",
    "clf = RandomForestClassifier(**gridsearch_rf.best_params_)\n",
    "clf.fit(x_train_transformed, y_train.values.ravel())"
   ]
  },
  {
   "cell_type": "markdown",
   "metadata": {},
   "source": [
    "### Result on test set"
   ]
  },
  {
   "cell_type": "code",
   "execution_count": 75,
   "metadata": {},
   "outputs": [],
   "source": [
    "# We apply our model on the test set\n",
    "y_result = clf.predict_proba(x_test_transformed)[:,1]\n",
    "y_train_result = clf.predict_proba(x_train_transformed)[:,1]"
   ]
  },
  {
   "cell_type": "code",
   "execution_count": 76,
   "metadata": {},
   "outputs": [],
   "source": [
    "# Get false positive rate and true postive rate on test set\n",
    "fpr, tpr, _ = roc_curve(y_test, y_result)\n",
    "roc_auc = roc_auc_score(y_test, y_result)\n",
    "\n",
    "#On train set\n",
    "fpr_t, tpr_t, _ = roc_curve(y_train, y_train_result)\n",
    "roc_auc_t = roc_auc_score(y_train, y_train_result)"
   ]
  },
  {
   "cell_type": "code",
   "execution_count": 77,
   "metadata": {},
   "outputs": [
    {
     "data": {
      "image/png": "[encoded data removed]",
      "text/plain": [
       "<Figure size 432x288 with 1 Axes>"
      ]
     },
     "metadata": {
      "needs_background": "light"
     },
     "output_type": "display_data"
    }
   ],
   "source": [
    "# We plot the ROC curve of the result on the train and test data\n",
    "plt.figure()\n",
    "lw = 2\n",
    "plt.plot(fpr, tpr, color='darkorange',\n",
    "         lw=lw, label='ROC curve test (area = %0.3f)' % roc_auc)\n",
    "plt.plot(fpr_t, tpr_t, color='green',\n",
    "         lw=lw, label='ROC curve train (area = %0.3f)' % roc_auc_t)\n",
    "plt.plot([0, 1], [0, 1], color='navy', lw=lw, linestyle='--')\n",
    "plt.xlim([0.0, 1.0])\n",
    "plt.ylim([0.0, 1.05])\n",
    "plt.xlabel('False Positive Rate')\n",
    "plt.ylabel('True Positive Rate')\n",
    "plt.title('ROC curve')\n",
    "plt.legend(loc=\"lower right\")\n",
    "plt.show()"
   ]
  },
  {
   "cell_type": "code",
   "execution_count": 78,
   "metadata": {},
   "outputs": [
    {
     "name": "stdout",
     "output_type": "stream",
     "text": [
      "Accuracy : 0.7637614678899083\n",
      "Recall : 0.6161369193154034\n",
      "Precision : 0.8372093023255814\n"
     ]
    }
   ],
   "source": [
    "# Show confusion matrix\n",
    "y_result = clf.predict_proba(x_test_transformed)[:,1]\n",
    "y_result = np.where(y_result < 0.5, 0, 1)\n",
    "conf_mx = confusion_matrix(y_test, y_result)\n",
    "\n",
    "print(\"Accuracy :\",(conf_mx[0][0]+conf_mx[1][1])/len(y_result))\n",
    "print(\"Recall :\",(conf_mx[1][1])/len(y_test[y_test==1]))\n",
    "print(\"Precision :\",(conf_mx[1][1])/len(y_result[y_result==1]))"
   ]
  },
  {
   "cell_type": "code",
   "execution_count": 88,
   "metadata": {},
   "outputs": [
    {
     "ename": "ValueError",
     "evalue": "Length of values (1440) does not match length of index (881)",
     "output_type": "error",
     "traceback": [
      "\u001b[1;31m---------------------------------------------------------------------------\u001b[0m",
      "\u001b[1;31mValueError\u001b[0m                                Traceback (most recent call last)",
      "\u001b[1;32m<ipython-input-88-19147ba0a091>\u001b[0m in \u001b[0;36m<module>\u001b[1;34m\u001b[0m\n\u001b[0;32m      2\u001b[0m \u001b[1;33m\u001b[0m\u001b[0m\n\u001b[0;32m      3\u001b[0m \u001b[0mtest_set\u001b[0m \u001b[1;33m=\u001b[0m \u001b[0mdf\u001b[0m\u001b[1;33m[\u001b[0m\u001b[0mdf\u001b[0m\u001b[1;33m.\u001b[0m\u001b[0mpatient_name\u001b[0m\u001b[1;33m.\u001b[0m\u001b[0misin\u001b[0m\u001b[1;33m(\u001b[0m\u001b[0mpatient_test\u001b[0m\u001b[1;33m)\u001b[0m\u001b[1;33m]\u001b[0m\u001b[1;33m\u001b[0m\u001b[1;33m\u001b[0m\u001b[0m\n\u001b[1;32m----> 4\u001b[1;33m \u001b[0mtest_set\u001b[0m \u001b[1;33m=\u001b[0m \u001b[0mtest_set\u001b[0m\u001b[1;33m.\u001b[0m\u001b[0massign\u001b[0m\u001b[1;33m(\u001b[0m\u001b[0mprediction\u001b[0m \u001b[1;33m=\u001b[0m \u001b[0mgridsearch_rf\u001b[0m\u001b[1;33m.\u001b[0m\u001b[0mpredict_proba\u001b[0m\u001b[1;33m(\u001b[0m\u001b[0mx_test_transformed\u001b[0m\u001b[1;33m)\u001b[0m\u001b[1;33m[\u001b[0m\u001b[1;33m:\u001b[0m\u001b[1;33m,\u001b[0m \u001b[1;36m1\u001b[0m\u001b[1;33m]\u001b[0m\u001b[1;33m)\u001b[0m\u001b[1;33m\u001b[0m\u001b[1;33m\u001b[0m\u001b[0m\n\u001b[0m\u001b[0;32m      5\u001b[0m \u001b[1;33m\u001b[0m\u001b[0m\n\u001b[0;32m      6\u001b[0m \u001b[1;31m# We aggregate our test set at the cell level to get the prection for each cell\u001b[0m\u001b[1;33m\u001b[0m\u001b[1;33m\u001b[0m\u001b[1;33m\u001b[0m\u001b[0m\n",
      "\u001b[1;32mc:\\users\\antonin\\miniconda3\\lib\\site-packages\\pandas\\core\\frame.py\u001b[0m in \u001b[0;36massign\u001b[1;34m(self, **kwargs)\u001b[0m\n\u001b[0;32m   3828\u001b[0m \u001b[1;33m\u001b[0m\u001b[0m\n\u001b[0;32m   3829\u001b[0m         \u001b[1;32mfor\u001b[0m \u001b[0mk\u001b[0m\u001b[1;33m,\u001b[0m \u001b[0mv\u001b[0m \u001b[1;32min\u001b[0m \u001b[0mkwargs\u001b[0m\u001b[1;33m.\u001b[0m\u001b[0mitems\u001b[0m\u001b[1;33m(\u001b[0m\u001b[1;33m)\u001b[0m\u001b[1;33m:\u001b[0m\u001b[1;33m\u001b[0m\u001b[1;33m\u001b[0m\u001b[0m\n\u001b[1;32m-> 3830\u001b[1;33m             \u001b[0mdata\u001b[0m\u001b[1;33m[\u001b[0m\u001b[0mk\u001b[0m\u001b[1;33m]\u001b[0m \u001b[1;33m=\u001b[0m \u001b[0mcom\u001b[0m\u001b[1;33m.\u001b[0m\u001b[0mapply_if_callable\u001b[0m\u001b[1;33m(\u001b[0m\u001b[0mv\u001b[0m\u001b[1;33m,\u001b[0m \u001b[0mdata\u001b[0m\u001b[1;33m)\u001b[0m\u001b[1;33m\u001b[0m\u001b[1;33m\u001b[0m\u001b[0m\n\u001b[0m\u001b[0;32m   3831\u001b[0m         \u001b[1;32mreturn\u001b[0m \u001b[0mdata\u001b[0m\u001b[1;33m\u001b[0m\u001b[1;33m\u001b[0m\u001b[0m\n\u001b[0;32m   3832\u001b[0m \u001b[1;33m\u001b[0m\u001b[0m\n",
      "\u001b[1;32mc:\\users\\antonin\\miniconda3\\lib\\site-packages\\pandas\\core\\frame.py\u001b[0m in \u001b[0;36m__setitem__\u001b[1;34m(self, key, value)\u001b[0m\n\u001b[0;32m   3161\u001b[0m         \u001b[1;32melse\u001b[0m\u001b[1;33m:\u001b[0m\u001b[1;33m\u001b[0m\u001b[1;33m\u001b[0m\u001b[0m\n\u001b[0;32m   3162\u001b[0m             \u001b[1;31m# set column\u001b[0m\u001b[1;33m\u001b[0m\u001b[1;33m\u001b[0m\u001b[1;33m\u001b[0m\u001b[0m\n\u001b[1;32m-> 3163\u001b[1;33m             \u001b[0mself\u001b[0m\u001b[1;33m.\u001b[0m\u001b[0m_set_item\u001b[0m\u001b[1;33m(\u001b[0m\u001b[0mkey\u001b[0m\u001b[1;33m,\u001b[0m \u001b[0mvalue\u001b[0m\u001b[1;33m)\u001b[0m\u001b[1;33m\u001b[0m\u001b[1;33m\u001b[0m\u001b[0m\n\u001b[0m\u001b[0;32m   3164\u001b[0m \u001b[1;33m\u001b[0m\u001b[0m\n\u001b[0;32m   3165\u001b[0m     \u001b[1;32mdef\u001b[0m \u001b[0m_setitem_slice\u001b[0m\u001b[1;33m(\u001b[0m\u001b[0mself\u001b[0m\u001b[1;33m,\u001b[0m \u001b[0mkey\u001b[0m\u001b[1;33m:\u001b[0m \u001b[0mslice\u001b[0m\u001b[1;33m,\u001b[0m \u001b[0mvalue\u001b[0m\u001b[1;33m)\u001b[0m\u001b[1;33m:\u001b[0m\u001b[1;33m\u001b[0m\u001b[1;33m\u001b[0m\u001b[0m\n",
      "\u001b[1;32mc:\\users\\antonin\\miniconda3\\lib\\site-packages\\pandas\\core\\frame.py\u001b[0m in \u001b[0;36m_set_item\u001b[1;34m(self, key, value)\u001b[0m\n\u001b[0;32m   3240\u001b[0m         \"\"\"\n\u001b[0;32m   3241\u001b[0m         \u001b[0mself\u001b[0m\u001b[1;33m.\u001b[0m\u001b[0m_ensure_valid_index\u001b[0m\u001b[1;33m(\u001b[0m\u001b[0mvalue\u001b[0m\u001b[1;33m)\u001b[0m\u001b[1;33m\u001b[0m\u001b[1;33m\u001b[0m\u001b[0m\n\u001b[1;32m-> 3242\u001b[1;33m         \u001b[0mvalue\u001b[0m \u001b[1;33m=\u001b[0m \u001b[0mself\u001b[0m\u001b[1;33m.\u001b[0m\u001b[0m_sanitize_column\u001b[0m\u001b[1;33m(\u001b[0m\u001b[0mkey\u001b[0m\u001b[1;33m,\u001b[0m \u001b[0mvalue\u001b[0m\u001b[1;33m)\u001b[0m\u001b[1;33m\u001b[0m\u001b[1;33m\u001b[0m\u001b[0m\n\u001b[0m\u001b[0;32m   3243\u001b[0m         \u001b[0mNDFrame\u001b[0m\u001b[1;33m.\u001b[0m\u001b[0m_set_item\u001b[0m\u001b[1;33m(\u001b[0m\u001b[0mself\u001b[0m\u001b[1;33m,\u001b[0m \u001b[0mkey\u001b[0m\u001b[1;33m,\u001b[0m \u001b[0mvalue\u001b[0m\u001b[1;33m)\u001b[0m\u001b[1;33m\u001b[0m\u001b[1;33m\u001b[0m\u001b[0m\n\u001b[0;32m   3244\u001b[0m \u001b[1;33m\u001b[0m\u001b[0m\n",
      "\u001b[1;32mc:\\users\\antonin\\miniconda3\\lib\\site-packages\\pandas\\core\\frame.py\u001b[0m in \u001b[0;36m_sanitize_column\u001b[1;34m(self, key, value, broadcast)\u001b[0m\n\u001b[0;32m   3897\u001b[0m \u001b[1;33m\u001b[0m\u001b[0m\n\u001b[0;32m   3898\u001b[0m             \u001b[1;31m# turn me into an ndarray\u001b[0m\u001b[1;33m\u001b[0m\u001b[1;33m\u001b[0m\u001b[1;33m\u001b[0m\u001b[0m\n\u001b[1;32m-> 3899\u001b[1;33m             \u001b[0mvalue\u001b[0m \u001b[1;33m=\u001b[0m \u001b[0msanitize_index\u001b[0m\u001b[1;33m(\u001b[0m\u001b[0mvalue\u001b[0m\u001b[1;33m,\u001b[0m \u001b[0mself\u001b[0m\u001b[1;33m.\u001b[0m\u001b[0mindex\u001b[0m\u001b[1;33m)\u001b[0m\u001b[1;33m\u001b[0m\u001b[1;33m\u001b[0m\u001b[0m\n\u001b[0m\u001b[0;32m   3900\u001b[0m             \u001b[1;32mif\u001b[0m \u001b[1;32mnot\u001b[0m \u001b[0misinstance\u001b[0m\u001b[1;33m(\u001b[0m\u001b[0mvalue\u001b[0m\u001b[1;33m,\u001b[0m \u001b[1;33m(\u001b[0m\u001b[0mnp\u001b[0m\u001b[1;33m.\u001b[0m\u001b[0mndarray\u001b[0m\u001b[1;33m,\u001b[0m \u001b[0mIndex\u001b[0m\u001b[1;33m)\u001b[0m\u001b[1;33m)\u001b[0m\u001b[1;33m:\u001b[0m\u001b[1;33m\u001b[0m\u001b[1;33m\u001b[0m\u001b[0m\n\u001b[0;32m   3901\u001b[0m                 \u001b[1;32mif\u001b[0m \u001b[0misinstance\u001b[0m\u001b[1;33m(\u001b[0m\u001b[0mvalue\u001b[0m\u001b[1;33m,\u001b[0m \u001b[0mlist\u001b[0m\u001b[1;33m)\u001b[0m \u001b[1;32mand\u001b[0m \u001b[0mlen\u001b[0m\u001b[1;33m(\u001b[0m\u001b[0mvalue\u001b[0m\u001b[1;33m)\u001b[0m \u001b[1;33m>\u001b[0m \u001b[1;36m0\u001b[0m\u001b[1;33m:\u001b[0m\u001b[1;33m\u001b[0m\u001b[1;33m\u001b[0m\u001b[0m\n",
      "\u001b[1;32mc:\\users\\antonin\\miniconda3\\lib\\site-packages\\pandas\\core\\internals\\construction.py\u001b[0m in \u001b[0;36msanitize_index\u001b[1;34m(data, index)\u001b[0m\n\u001b[0;32m    749\u001b[0m     \"\"\"\n\u001b[0;32m    750\u001b[0m     \u001b[1;32mif\u001b[0m \u001b[0mlen\u001b[0m\u001b[1;33m(\u001b[0m\u001b[0mdata\u001b[0m\u001b[1;33m)\u001b[0m \u001b[1;33m!=\u001b[0m \u001b[0mlen\u001b[0m\u001b[1;33m(\u001b[0m\u001b[0mindex\u001b[0m\u001b[1;33m)\u001b[0m\u001b[1;33m:\u001b[0m\u001b[1;33m\u001b[0m\u001b[1;33m\u001b[0m\u001b[0m\n\u001b[1;32m--> 751\u001b[1;33m         raise ValueError(\n\u001b[0m\u001b[0;32m    752\u001b[0m             \u001b[1;34m\"Length of values \"\u001b[0m\u001b[1;33m\u001b[0m\u001b[1;33m\u001b[0m\u001b[0m\n\u001b[0;32m    753\u001b[0m             \u001b[1;34mf\"({len(data)}) \"\u001b[0m\u001b[1;33m\u001b[0m\u001b[1;33m\u001b[0m\u001b[0m\n",
      "\u001b[1;31mValueError\u001b[0m: Length of values (1440) does not match length of index (881)"
     ]
    }
   ],
   "source": [
    "# We select all the patients that was not used for training or validation\n",
    "test_set = df[df.patient_name.isin(patient_test)]\n",
    "test_set = test_set.assign(prediction = gridsearch_rf.predict_proba(x_test_transformed)[:, 1])\n",
    "\n",
    "# We aggregate our test set at the cell level to get the prection for each cell\n",
    "cell_test = test_set.groupby(['patient_name','cell_name']).agg({'cell_type':\"first\",\n",
    "                                                              'patient_state':\"first\",\n",
    "                                                              \"spectre\":'count',\n",
    "                                                              'prediction':\"mean\"})"
   ]
  },
  {
   "cell_type": "code",
   "execution_count": 80,
   "metadata": {},
   "outputs": [
    {
     "data": {
      "text/plain": [
       "<AxesSubplot:ylabel='Count'>"
      ]
     },
     "execution_count": 80,
     "metadata": {},
     "output_type": "execute_result"
    },
    {
     "data": {
      "image/png": "[encoded data removed]",
      "text/plain": [
       "<Figure size 432x288 with 1 Axes>"
      ]
     },
     "metadata": {
      "needs_background": "light"
     },
     "output_type": "display_data"
    }
   ],
   "source": [
    "sns.histplot(cell_test.prediction.values, bins=100)"
   ]
  },
  {
   "cell_type": "code",
   "execution_count": 83,
   "metadata": {},
   "outputs": [
    {
     "data": {
      "text/html": [
       "<div>\n",
       "<style scoped>\n",
       "    .dataframe tbody tr th:only-of-type {\n",
       "        vertical-align: middle;\n",
       "    }\n",
       "\n",
       "    .dataframe tbody tr th {\n",
       "        vertical-align: top;\n",
       "    }\n",
       "\n",
       "    .dataframe thead th {\n",
       "        text-align: right;\n",
       "    }\n",
       "</style>\n",
       "<table border=\"1\" class=\"dataframe\">\n",
       "  <thead>\n",
       "    <tr style=\"text-align: right;\">\n",
       "      <th></th>\n",
       "      <th>TNK</th>\n",
       "      <th>B</th>\n",
       "      <th>TNK_predicted</th>\n",
       "      <th>B_predicted</th>\n",
       "      <th>patient_state</th>\n",
       "      <th>spectre</th>\n",
       "      <th>cell_number</th>\n",
       "      <th>ratio_B</th>\n",
       "      <th>ratio_B_predicted</th>\n",
       "      <th>diff_ratio</th>\n",
       "      <th>predicted_state</th>\n",
       "    </tr>\n",
       "    <tr>\n",
       "      <th>patient_name</th>\n",
       "      <th></th>\n",
       "      <th></th>\n",
       "      <th></th>\n",
       "      <th></th>\n",
       "      <th></th>\n",
       "      <th></th>\n",
       "      <th></th>\n",
       "      <th></th>\n",
       "      <th></th>\n",
       "      <th></th>\n",
       "      <th></th>\n",
       "    </tr>\n",
       "  </thead>\n",
       "  <tbody>\n",
       "    <tr>\n",
       "      <th>P2_ULC81</th>\n",
       "      <td>0</td>\n",
       "      <td>66</td>\n",
       "      <td>9</td>\n",
       "      <td>57</td>\n",
       "      <td>malade</td>\n",
       "      <td>198</td>\n",
       "      <td>66</td>\n",
       "      <td>1.000000</td>\n",
       "      <td>0.863636</td>\n",
       "      <td>-0.136364</td>\n",
       "      <td>malade</td>\n",
       "    </tr>\n",
       "    <tr>\n",
       "      <th>P2_ULC129</th>\n",
       "      <td>19</td>\n",
       "      <td>56</td>\n",
       "      <td>15</td>\n",
       "      <td>60</td>\n",
       "      <td>malade</td>\n",
       "      <td>222</td>\n",
       "      <td>75</td>\n",
       "      <td>0.746667</td>\n",
       "      <td>0.800000</td>\n",
       "      <td>0.053333</td>\n",
       "      <td>malade</td>\n",
       "    </tr>\n",
       "    <tr>\n",
       "      <th>P1_ULC127</th>\n",
       "      <td>57</td>\n",
       "      <td>15</td>\n",
       "      <td>54</td>\n",
       "      <td>18</td>\n",
       "      <td>sain</td>\n",
       "      <td>214</td>\n",
       "      <td>72</td>\n",
       "      <td>0.208333</td>\n",
       "      <td>0.250000</td>\n",
       "      <td>0.041667</td>\n",
       "      <td>sain</td>\n",
       "    </tr>\n",
       "    <tr>\n",
       "      <th>P1_ULC91</th>\n",
       "      <td>80</td>\n",
       "      <td>0</td>\n",
       "      <td>76</td>\n",
       "      <td>4</td>\n",
       "      <td>sain</td>\n",
       "      <td>238</td>\n",
       "      <td>80</td>\n",
       "      <td>0.000000</td>\n",
       "      <td>0.050000</td>\n",
       "      <td>0.050000</td>\n",
       "      <td>sain</td>\n",
       "    </tr>\n",
       "  </tbody>\n",
       "</table>\n",
       "</div>"
      ],
      "text/plain": [
       "              TNK   B  TNK_predicted  B_predicted patient_state  spectre  \\\n",
       "patient_name                                                               \n",
       "P2_ULC81        0  66              9           57        malade      198   \n",
       "P2_ULC129      19  56             15           60        malade      222   \n",
       "P1_ULC127      57  15             54           18          sain      214   \n",
       "P1_ULC91       80   0             76            4          sain      238   \n",
       "\n",
       "              cell_number   ratio_B  ratio_B_predicted  diff_ratio  \\\n",
       "patient_name                                                         \n",
       "P2_ULC81               66  1.000000           0.863636   -0.136364   \n",
       "P2_ULC129              75  0.746667           0.800000    0.053333   \n",
       "P1_ULC127              72  0.208333           0.250000    0.041667   \n",
       "P1_ULC91               80  0.000000           0.050000    0.050000   \n",
       "\n",
       "             predicted_state  \n",
       "patient_name                  \n",
       "P2_ULC81              malade  \n",
       "P2_ULC129             malade  \n",
       "P1_ULC127               sain  \n",
       "P1_ULC91                sain  "
      ]
     },
     "execution_count": 83,
     "metadata": {},
     "output_type": "execute_result"
    }
   ],
   "source": [
    "# We one hot encode the label\n",
    "cell_test['TNK'] = np.where(cell_test['cell_type']==0, 1, 0)\n",
    "cell_test['B'] = np.where(cell_test['cell_type']==1, 1, 0)\n",
    "\n",
    "# Using a threshold of 0.5, we assign label to the mean prediction of all specters for one cell\n",
    "\n",
    "cell_test['predicted_type'] = np.where(cell_test['prediction'] < 0.4, 0, 1)\n",
    "\n",
    "# We one hot encode the predicted label\n",
    "cell_test['TNK_predicted'] = np.where(cell_test['predicted_type'] == 0, 1, 0)\n",
    "cell_test['B_predicted'] = np.where(cell_test['predicted_type'] == 1, 1, 0)\n",
    "\n",
    "# We aggregate our test set at the patient level to get the prection for each patient\n",
    "\n",
    "patient_df = cell_test.groupby('patient_name').agg({'TNK':sum, \n",
    "                                                  'B':sum,\n",
    "                                                  'TNK_predicted':sum,\n",
    "                                                  'B_predicted':sum,\n",
    "                                                  'patient_state':\"first\", \n",
    "                                                  'spectre':'sum'})\n",
    "\n",
    "patient_df['cell_number'] = patient_df['TNK'] + patient_df['B']\n",
    "patient_df['ratio_B'] = patient_df['B']/patient_df['cell_number']\n",
    "patient_df['ratio_B_predicted'] = patient_df['B_predicted']/patient_df['cell_number']\n",
    "\n",
    "patient_df['diff_ratio'] = patient_df['ratio_B_predicted'] - patient_df['ratio_B']\n",
    "patient_df['predicted_state'] = np.where(patient_df['ratio_B_predicted'] < 0.5, \"sain\", 'malade')\n",
    "\n",
    "patient_df.sort_values(\"ratio_B\", ascending=False)"
   ]
  },
  {
   "cell_type": "code",
   "execution_count": 31,
   "metadata": {},
   "outputs": [
    {
     "name": "stdout",
     "output_type": "stream",
     "text": [
      "Moyenne de l'erreur -0.09251823420373953\n",
      "Variance de l'erreur 0.012099874395708754\n",
      "Patients malades bien prédit 2 / 2\n",
      "Patients sains bien prédit 2 / 2\n"
     ]
    }
   ],
   "source": [
    "print('Moyenne de l\\'erreur', patient_df['diff_ratio'].mean())\n",
    "print('Variance de l\\'erreur',patient_df['diff_ratio'].var())\n",
    "print('Patients malades bien prédit', len(patient_df[(patient_df.predicted_state == patient_df.patient_state) \\\n",
    "                                                     & (patient_df.patient_state == \"malade\")]),'/',\n",
    "                                      len(patient_df[patient_df.patient_state == 'malade']))\n",
    "\n",
    "print('Patients sains bien prédit', len(patient_df[(patient_df.predicted_state == patient_df.patient_state) \\\n",
    "                                                     & (patient_df.patient_state == \"sain\")]),'/',\n",
    "                                      len(patient_df[patient_df.patient_state == 'sain']))"
   ]
  },
  {
   "cell_type": "markdown",
   "metadata": {},
   "source": [
    "## TO DO\n",
    "\n",
    "* Retrain the model multiple time with different splits and compute the mean difference of variation as well as the variance\n",
    "* Find a way of finding the optimal threshold (which maximise the recall) more rigoursly\n",
    "* Print the accuracy, recall, etc\n",
    "* "
   ]
  }
 ],
 "metadata": {
  "kernelspec": {
   "display_name": "Python 3",
   "language": "python",
   "name": "python3"
  },
  "language_info": {
   "codemirror_mode": {
    "name": "ipython",
    "version": 3
   },
   "file_extension": ".py",
   "mimetype": "text/x-python",
   "name": "python",
   "nbconvert_exporter": "python",
   "pygments_lexer": "ipython3",
   "version": "3.8.3"
  }
 },
 "nbformat": 4,
 "nbformat_minor": 4
}
